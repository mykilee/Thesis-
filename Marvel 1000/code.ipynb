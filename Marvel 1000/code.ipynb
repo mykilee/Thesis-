{
 "cells": [
  {
   "cell_type": "code",
   "execution_count": 2,
   "metadata": {},
   "outputs": [],
   "source": [
    "import glob\n",
    "import os\n",
    "\n",
    "import matplotlib.pyplot as plt\n",
    "import pandas as pd\n",
    "import numpy as np\n",
    "np.random.seed(543251) # control random seed\n",
    "\n",
    "import copia.utils as u\n",
    "from copia.richness import *\n",
    "from copia.hill import hill_numbers\n",
    "from copia.utils import survival_ratio\n",
    "from copia.utils import evenness\n",
    "from copia.plot import accumulation_curve\n",
    "from copia.plot import multi_kde\n",
    "from copia.plot import survival_errorbar\n",
    "from copia.plot import evenness_plot\n",
    "from copia.plot import density\n",
    "from copia.plot import hill_plot"
   ]
  },
  {
   "cell_type": "code",
   "execution_count": 5,
   "metadata": {},
   "outputs": [
    {
     "ename": "SyntaxError",
     "evalue": "invalid syntax (1195865144.py, line 1)",
     "output_type": "error",
     "traceback": [
      "\u001b[0;36m  Cell \u001b[0;32mIn[5], line 1\u001b[0;36m\u001b[0m\n\u001b[0;31m    python3 -m pip install copia\u001b[0m\n\u001b[0m               ^\u001b[0m\n\u001b[0;31mSyntaxError\u001b[0m\u001b[0;31m:\u001b[0m invalid syntax\n"
     ]
    }
   ],
   "source": [
    "python3 -m pip install copia"
   ]
  },
  {
   "cell_type": "code",
   "execution_count": 3,
   "metadata": {},
   "outputs": [],
   "source": [
    "# import data\n",
    "df = pd.read_csv('fanfics 22.02.43.csv')\n",
    "# remove trailing NaN rows\n",
    "df = df.drop(np.linspace(1000,df.index[-1],df.index[-1]-1000+1))"
   ]
  },
  {
   "cell_type": "code",
   "execution_count": 4,
   "metadata": {},
   "outputs": [],
   "source": [
    "unames_raw = df.all_kudos.to_list()     # list of lists of usernames\n",
    "unames_ls = []      # list of usernames\n",
    "# for each list in raw\n",
    "for i,lst in enumerate(unames_raw):\n",
    "    unames_i = unames_raw[i]\n",
    "    uname = ''  # empty name\n",
    "    # iterate every char except the last char in unames_i\n",
    "    for j,c in enumerate(unames_i[0:-1]):\n",
    "        # if the char is not gibberish, add to uname\n",
    "        if c != '[' and c != ']' and c != '\\'' and c != ',' and c != ' ':\n",
    "            uname = uname + c\n",
    "        # if the char is gibberish & next char is not & uname is nonempty, add uname to unames_ls, reset uname\n",
    "        elif unames_i[j+1] != '[' and unames_i[j+1] != ']' and unames_i[j+1] != '\\'' and unames_i[j+1] != ',' and unames_i[j+1] != ' ' and uname != '':\n",
    "            unames_ls.append(uname)\n",
    "            uname = ''\n",
    "    unames_ls.append(uname)     # add the last uname\n",
    "\n",
    "unames_ls = list(dict.fromkeys(unames_ls))  # remove duplicate entries"
   ]
  },
  {
   "cell_type": "code",
   "execution_count": null,
   "metadata": {},
   "outputs": [],
   "source": [
    "abundance = u.to_abundance(df_all['author'])"
   ]
  },
  {
   "cell_type": "code",
   "execution_count": null,
   "metadata": {},
   "outputs": [],
   "source": [
    "try:\n",
    "    os.mkdir('../outputs')\n",
    "except FileExistsError:\n",
    "    pass"
   ]
  },
  {
   "cell_type": "code",
   "execution_count": null,
   "metadata": {},
   "outputs": [],
   "source": []
  }
 ],
 "metadata": {
  "kernelspec": {
   "display_name": "Python 3 (ipykernel)",
   "language": "python",
   "name": "python3"
  },
  "language_info": {
   "codemirror_mode": {
    "name": "ipython",
    "version": 3
   },
   "file_extension": ".py",
   "mimetype": "text/x-python",
   "name": "python",
   "nbconvert_exporter": "python",
   "pygments_lexer": "ipython3",
   "version": "3.11.4"
  }
 },
 "nbformat": 4,
 "nbformat_minor": 2
}
