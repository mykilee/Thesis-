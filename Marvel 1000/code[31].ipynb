{
 "cells": [
  {
   "cell_type": "code",
   "execution_count": 1,
   "metadata": {},
   "outputs": [],
   "source": [
    "import pandas as pd\n",
    "import numpy as np\n",
    "import copia.utils as u\n",
    "import copia\n"
   ]
  },
  {
   "cell_type": "code",
   "execution_count": 2,
   "metadata": {},
   "outputs": [],
   "source": [
    "# import data\n",
    "df = pd.read_csv('fanfics 22.02.43.csv')\n",
    "# remove trailing NaN rows\n",
    "df = df.drop(np.linspace(1000,df.index[-1],df.index[-1]-1000+1))"
   ]
  },
  {
   "cell_type": "code",
   "execution_count": 3,
   "metadata": {},
   "outputs": [],
   "source": [
    "unames_raw = df.all_kudos.to_list()     # list of lists of usernames\n",
    "unames_ls = []      # list of usernames\n",
    "# for each list in raw\n",
    "for i,lst in enumerate(unames_raw):\n",
    "    unames_i = unames_raw[i]\n",
    "    uname = ''  # empty name\n",
    "    # iterate every char except the last char in unames_i\n",
    "    for j,c in enumerate(unames_i[0:-1]):\n",
    "        # if the char is not gibberish, add to uname\n",
    "        if c != '[' and c != ']' and c != '\\'' and c != ',' and c != ' ':\n",
    "            uname = uname + c\n",
    "        # if the char is gibberish & next char is not & uname is nonempty, add uname to unames_ls, reset uname\n",
    "        elif unames_i[j+1] != '[' and unames_i[j+1] != ']' and unames_i[j+1] != '\\'' and unames_i[j+1] != ',' and unames_i[j+1] != ' ' and uname != '':\n",
    "            unames_ls.append(uname)\n",
    "            uname = ''\n",
    "    unames_ls.append(uname)     # add the last uname\n",
    "\n",
    "unames_ls = list(dict.fromkeys(unames_ls))  # remove duplicate entries"
   ]
  },
  {
   "cell_type": "code",
   "execution_count": 4,
   "metadata": {},
   "outputs": [
    {
     "data": {
      "text/plain": [
       "{'f1': 674, 'f2': 117, 'f3': 20, 'f4': 8, 'S': 819, 'n': 1000}"
      ]
     },
     "execution_count": 4,
     "metadata": {},
     "output_type": "execute_result"
    }
   ],
   "source": [
    "abundance = u.to_abundance(df['kudos'])\n",
    "s = u.basic_stats(abundance)\n",
    "s"
   ]
  },
  {
   "cell_type": "code",
   "execution_count": 5,
   "metadata": {},
   "outputs": [
    {
     "name": "stderr",
     "output_type": "stream",
     "text": [
      "/var/folders/qq/mhcj179n5kq19qn8ckv1mk040000gn/T/ipykernel_46451/3392230288.py:3: SettingWithCopyWarning: \n",
      "A value is trying to be set on a copy of a slice from a DataFrame\n",
      "\n",
      "See the caveats in the documentation: https://pandas.pydata.org/pandas-docs/stable/user_guide/indexing.html#returning-a-view-versus-a-copy\n",
      "  df.kudos[i] = int(kudo.replace(',',''))\n"
     ]
    }
   ],
   "source": [
    "# change str to num kudos\n",
    "for i,kudo in enumerate(df.kudos):\n",
    "    df.kudos[i] = int(kudo.replace(',',''))"
   ]
  },
  {
   "cell_type": "code",
   "execution_count": null,
   "metadata": {},
   "outputs": [],
   "source": []
  },
  {
   "cell_type": "code",
   "execution_count": null,
   "metadata": {},
   "outputs": [],
   "source": []
  },
  {
   "cell_type": "code",
   "execution_count": null,
   "metadata": {},
   "outputs": [],
   "source": []
  },
  {
   "cell_type": "code",
   "execution_count": null,
   "metadata": {},
   "outputs": [],
   "source": []
  }
 ],
 "metadata": {
  "kernelspec": {
   "display_name": "Python 3 (ipykernel)",
   "language": "python",
   "name": "python3"
  },
  "language_info": {
   "codemirror_mode": {
    "name": "ipython",
    "version": 3
   },
   "file_extension": ".py",
   "mimetype": "text/x-python",
   "name": "python",
   "nbconvert_exporter": "python",
   "pygments_lexer": "ipython3",
   "version": "3.11.4"
  }
 },
 "nbformat": 4,
 "nbformat_minor": 2
}
